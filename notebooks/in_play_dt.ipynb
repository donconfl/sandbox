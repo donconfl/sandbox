{
 "cells": [
  {
   "cell_type": "code",
   "execution_count": 6,
   "metadata": {},
   "outputs": [
    {
     "ename": "ModuleNotFoundError",
     "evalue": "No module named 'redshift_utils'",
     "output_type": "error",
     "traceback": [
      "\u001b[0;31m---------------------------------------------------------------------------\u001b[0m",
      "\u001b[0;31mModuleNotFoundError\u001b[0m                       Traceback (most recent call last)",
      "\u001b[1;32m/home/sagemaker-user/sandbox/intro-project/notebooks/in_play_dt.ipynb Cell 1\u001b[0m line \u001b[0;36m2\n\u001b[1;32m      <a href='vscode-notebook-cell://77excq6fccgh22v.studio.eu-west-1.sagemaker.aws/home/sagemaker-user/sandbox/intro-project/notebooks/in_play_dt.ipynb#W0sdnNjb2RlLXJlbW90ZQ%3D%3D?line=0'>1</a>\u001b[0m \u001b[39mimport\u001b[39;00m \u001b[39mos\u001b[39;00m\n\u001b[0;32m----> <a href='vscode-notebook-cell://77excq6fccgh22v.studio.eu-west-1.sagemaker.aws/home/sagemaker-user/sandbox/intro-project/notebooks/in_play_dt.ipynb#W0sdnNjb2RlLXJlbW90ZQ%3D%3D?line=1'>2</a>\u001b[0m \u001b[39mimport\u001b[39;00m \u001b[39mredshift_utils\u001b[39;00m \u001b[39mas\u001b[39;00m \u001b[39mrs\u001b[39;00m\n\u001b[1;32m      <a href='vscode-notebook-cell://77excq6fccgh22v.studio.eu-west-1.sagemaker.aws/home/sagemaker-user/sandbox/intro-project/notebooks/in_play_dt.ipynb#W0sdnNjb2RlLXJlbW90ZQ%3D%3D?line=2'>3</a>\u001b[0m \u001b[39mimport\u001b[39;00m \u001b[39mpandas\u001b[39;00m \u001b[39mas\u001b[39;00m \u001b[39mpd\u001b[39;00m\n\u001b[1;32m      <a href='vscode-notebook-cell://77excq6fccgh22v.studio.eu-west-1.sagemaker.aws/home/sagemaker-user/sandbox/intro-project/notebooks/in_play_dt.ipynb#W0sdnNjb2RlLXJlbW90ZQ%3D%3D?line=3'>4</a>\u001b[0m \u001b[39mimport\u001b[39;00m \u001b[39mtime\u001b[39;00m\n",
      "\u001b[0;31mModuleNotFoundError\u001b[0m: No module named 'redshift_utils'"
     ]
    }
   ],
   "source": [
    "import os\n",
    "import redshift_utils as rs\n",
    "import pandas as pd\n",
    "import time\n",
    "import sagemaker\n",
    "import boto3\n",
    "import io\n",
    "from io import StringIO\n",
    "from skrub import TableReport\n",
    "import numpy as np\n",
    "import matplotlib.pyplot as plt\n",
    "import seaborn as sns\n",
    "from skrub import TableReport\n"
   ]
  },
  {
   "cell_type": "code",
   "execution_count": null,
   "metadata": {},
   "outputs": [],
   "source": [
    "bucket = \"edcs3.prod.biads\"\n",
    "boto_session = boto3.session.Session(region_name=\"eu-west-1\")\n",
    "sess = sagemaker.session.Session(boto_session, default_bucket=bucket)\n",
    "region = sess.boto_session.region_name\n",
    "account = sess.boto_session.client('sts').get_caller_identity()['Account']\n",
    "role = sagemaker.get_execution_role()\n",
    "ssm_client = boto3.client('ssm')\n",
    "kms_key = ssm_client.get_parameter(Name='/prod/sagemaker/BIADS/sloth/KMS_KEY_ID', WithDecryption=True)[\"Parameter\"][\"Value\"] \n",
    "\n",
    "def load_data(params, sql):\n",
    "    sloth_credentials = rs.get_sloth_credentials()\n",
    "    con = rs.connect_to_redshift(sloth_credentials)\n",
    "    data = rs.execute_sql(\n",
    "        RSconn=con,\n",
    "        sql=sql,\n",
    "        input_type=\"file\",\n",
    "        params=params\n",
    "    )\n",
    "    return data"
   ]
  },
  {
   "cell_type": "code",
   "execution_count": 8,
   "metadata": {},
   "outputs": [
    {
     "data": {
      "text/plain": [
       "0.34814814814814815"
      ]
     },
     "execution_count": 8,
     "metadata": {},
     "output_type": "execute_result"
    }
   ],
   "source": [
    "margin_pc = 11000000/27000000\n",
    "new_rev = 11000000 - 1600000\n",
    "new_rev/27000000"
   ]
  }
 ],
 "metadata": {
  "language_info": {
   "name": "python"
  }
 },
 "nbformat": 4,
 "nbformat_minor": 2
}
