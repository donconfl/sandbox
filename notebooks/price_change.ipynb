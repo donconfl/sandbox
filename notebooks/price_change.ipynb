{
 "cells": [
  {
   "cell_type": "code",
   "execution_count": 4,
   "metadata": {},
   "outputs": [],
   "source": [
    "import os\n",
    "import redshift_utils as rs\n",
    "import pandas as pd\n",
    "import time\n",
    "import sagemaker\n",
    "import boto3\n",
    "from skrub import TableReport\n",
    "import numpy as np\n",
    "import matplotlib.pyplot as plt\n",
    "import seaborn as sns"
   ]
  },
  {
   "cell_type": "code",
   "execution_count": 5,
   "metadata": {},
   "outputs": [],
   "source": [
    "bucket = \"edcs3.prod.biads\"\n",
    "boto_session = boto3.session.Session(region_name=\"eu-west-1\")\n",
    "sess = sagemaker.session.Session(boto_session, default_bucket=bucket)\n",
    "region = sess.boto_session.region_name\n",
    "account = sess.boto_session.client('sts').get_caller_identity()['Account']\n",
    "role = sagemaker.get_execution_role()\n",
    "ssm_client = boto3.client('ssm')\n",
    "kms_key = ssm_client.get_parameter(Name='/prod/sagemaker/BIADS/sloth/KMS_KEY_ID', WithDecryption=True)[\"Parameter\"][\"Value\"] "
   ]
  },
  {
   "cell_type": "code",
   "execution_count": 6,
   "metadata": {},
   "outputs": [],
   "source": [
    "def load_data(params, sql):\n",
    "    sloth_credentials = rs.get_sloth_credentials()\n",
    "    con = rs.connect_to_redshift(sloth_credentials)\n",
    "    data = rs.execute_sql(\n",
    "        RSconn=con,\n",
    "        sql=sql,\n",
    "        input_type=\"file\",\n",
    "        params=params\n",
    "    )\n",
    "    return data"
   ]
  },
  {
   "cell_type": "code",
   "execution_count": 7,
   "metadata": {},
   "outputs": [],
   "source": [
    "# Create prep table\n",
    "params = {'@iam': 'arn:aws:iam::765819017647:role/rs-edcs3.prod.marketing',\n",
    "          '@kms': kms_key, \n",
    "         }\n",
    "data = load_data(params=params, sql='../data/customer_market_group_analysis.sql')\n",
    "df = pd.DataFrame(data)\n"
   ]
  }
 ],
 "metadata": {
  "language_info": {
   "name": "python"
  }
 },
 "nbformat": 4,
 "nbformat_minor": 2
}
